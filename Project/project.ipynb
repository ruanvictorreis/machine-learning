{
 "cells": [
  {
   "cell_type": "markdown",
   "metadata": {},
   "source": [
    "**Universidade Federal de Campina Grande**\n",
    "<br/>\n",
    "**Programa de Pós-Graduação em Ciência da Computação**\n",
    "<br/>\n",
    "**Disciplina:** _Aprendizagem de Máquina_\n",
    "<br/>\n",
    "**Estudante:** _Ruan Victor Bertoldo Reis de Amorim_"
   ]
  },
  {
   "cell_type": "markdown",
   "metadata": {},
   "source": [
    "## Classificação de Transformações Sintáticas em Técnicas de Síntese de Programas"
   ]
  },
  {
   "cell_type": "markdown",
   "metadata": {},
   "source": [
    "# 1. Introdução"
   ]
  },
  {
   "cell_type": "markdown",
   "metadata": {},
   "source": [
    "Em minha pesquisa de mestrado, eu estou desenvolvendo uma ferramenta interativa que fornece feedback de alto nível para alunos de introdução a programação. O objetivo da ferramenta, chamada de `TraceDiff`, é possibilitar que os estudantes entendam os comportamentos inesperados dos seus códigos comparando-os com versões corrigidas dos mesmos. Dentre as principais funcionalidades do `TraceDiff`, podemos destacar a capacidade de corrigir códigos Python em tempo real e de forma automatizada. Para esta tarefa, o `TraceDiff` utiliza uma técnica de síntese de programas chamada de `Refazer` que é capaz de aprender e aplicar transformações síntáticas de código.\n",
    "<br/><br/>\n",
    "Inicialmente, é necessário fornecer para o `Refazer` uma base de dados composta por conjuntos de códigos incorretos e suas respectivas correções. No seguinte exemplo, podemos observar uma possível entrada para nossa técnica de síntese de programas. O primeiro quadro representa um código incorreto, a linha em vermelho indica a localização do erro cometido na implementação. Em seguida, no segundo quadro, podemos observar uma versão corrigida, a linha em azul representa a edição que foi necessário para corrigir o referido código. Uma tupla contento estes dois códigos é dado como entrada para o `Refazer` para que ele aprenda transformações sintáticas que representem tal correção. Dessa forma, o `TraceDiff` pode aplicar essas tranformações sintáticas em submissões futuras de outros alunos.\n",
    "![title](img/exemplo2.png) ![title](img/exemplo1.png)\n",
    "<br/><br/>\n",
    "Para uma única entrada ou exemplo, o `Refazer` pode aprender **centenas de transformações sintáticas** além da que é considerada correta. Isso acontece porque a técnica tenta explorar o maior espaço possível de variações para ambos os códigos. No entanto, algumas das transformações aprendidas estão muito distantes da transformação ideal, portanto, não é interessante mantê-las e nem aplicá-las. Neste trabalho de _Apredizagem de Máquina_, queremos implementar um classificador baseado em **regressão logística** que seja capaz de identificar transformações sintáticas indesejadas. Dessa forma, poderemos utilizar o classificador para eleminar as transformações de efeito negativo, assim, economizando os rescursos computacionais que atualmente são desperdiçados com essas operações."
   ]
  },
  {
   "cell_type": "markdown",
   "metadata": {},
   "source": [
    "# 2. Descrição dos Dados"
   ]
  },
  {
   "cell_type": "markdown",
   "metadata": {},
   "source": [
    "Os dados são compostos por 1314 transformações sintáticas geradas pelo `Refazer` a partir de edições executadas em três grandes projetos do Github (Roslyn, Entity Framework e NuGet). Dado o nosso conjunto de transformações, nós extraímos 12 features para conduzir este trabalho. Em seguida, a descrição de cada feature.\n",
    "\n",
    "- **ConstNode:** _número de constantes no programa._\n",
    "- **Reference:** _número de referências no programa._\n",
    "- **_ConcretePattern:_** _número de padrões concretos no programa._\n",
    "- **_AbstractPattern:_** _número de padrões abstratos no programa._\n",
    "- **Node:** _número de nós no programa._\n",
    "- **Pattern:** _número de padrões no programa._\n",
    "- **ParentOne:** _número de nós com apenas um pai._\n",
    "- **ParentTwo:** _número de nós com dois pais._\n",
    "- **ParentThree:** _número de nós com três pais._\n",
    "- **NodeItself:** _número de nós sem pais._\n",
    "- **SizeProg:** _número de linhas do programa._ \n",
    "- **NumberOp:** _número de operações utilizadas para gerar um programa._\n",
    "- **Label:** _representa se uma transformação obteve efeito desejável(1) ou indesejável(0)._"
   ]
  },
  {
   "cell_type": "markdown",
   "metadata": {},
   "source": [
    "# 3. Tratamento dos Dados"
   ]
  },
  {
   "cell_type": "markdown",
   "metadata": {},
   "source": [
    "Dado a descrição dos dados considerados neste estudo, foi necessário separar as features (X) e os labels (Y) do nosso dataset. Em seguida, dividimos os dados em 90% para treino e 10% para teste utilizando a função `train_test_split` que é fornecida pelo `scikit-learn`. O código Python a seguir realiza as operações descritas."
   ]
  },
  {
   "cell_type": "code",
   "execution_count": 128,
   "metadata": {
    "collapsed": true
   },
   "outputs": [],
   "source": [
    "from sklearn.cross_validation import train_test_split\n",
    "from sklearn.cross_validation import cross_val_score\n",
    "from sklearn.linear_model import LogisticRegression\n",
    "from sklearn.model_selection import GridSearchCV\n",
    "from sklearn import metrics\n",
    "\n",
    "import pandas as pd\n",
    "import numpy as np\n",
    "import matplotlib.pyplot as plt\n",
    "\n",
    "%config InlineBackend.figure_format = 'retina' #set 'png' here when working on notebook\n",
    "%matplotlib inline\n",
    "\n",
    "data = pd.read_csv(\"data/ProgStatus.csv\")\n",
    "\n",
    "X = data[['ConstNode','Reference','ConcretePattern', 'AbstractPattern', 'Node', 'Pattern', 'ParentOne', 'ParentTwo', 'ParentThree', 'NodeItself', 'SizeProg', 'NumberOp']]\n",
    "Y = data[['Label']].values.ravel()\n",
    "\n",
    "X_TRAIN, X_TEST, Y_TRAIN, Y_TEST = train_test_split(X, Y, train_size=0.9)"
   ]
  },
  {
   "cell_type": "markdown",
   "metadata": {},
   "source": [
    "# 4. Modelo de Regressão Logística"
   ]
  },
  {
   "cell_type": "markdown",
   "metadata": {},
   "source": [
    "\n",
    "Nosso objetivo neste trabalho é encontrar um modelo de regressão logística (com regularização) que seja eficaz em classificar transformações sintáticas como positivas (efeito esperado) e negativa (efeito inesperado). Para tal objetivo, nós utilizamos o `scikit-learn` uma biblioteca de aprendizado de máquina de código aberto para a linguagem de programação Python. Ela inclui vários algoritmos de classificação, regressão e agrupamento incluindo máquinas de vetores de suporte, florestas aleatórias, gradient boosting, k-means e DBSCAN, e é projetada para interagir com as bibliotecas Python numéricas e científicas NumPy e SciPy."
   ]
  },
  {
   "cell_type": "markdown",
   "metadata": {
    "collapsed": true
   },
   "source": [
    "## 4.1 Tunando Hiperparâmetros (Coeficiente de Regularização)"
   ]
  },
  {
   "cell_type": "markdown",
   "metadata": {},
   "source": [
    "Nesta secção, queremos encontrar o melhor modelo de regressão logística e parâmetro de regularização que correspondam as nossas expectativas. Considerando as convenções do `scikit-learn`, o parâmetro **C** controla a quantidade de regularização do modelo de regressão logistíca. Um grande valor para C resulta em menos regularização. \n",
    "\n",
    "Queremos encontrar o melhor C considerando os três aspectos a seguir:\n",
    "- **Log Loss:** \n",
    "> Mede o desempenho de um modelo de classificação onde a entrada de previsão é um valor de probabilidade entre 0 e 1.\n",
    "\n",
    "- **Acurácia:**\n",
    "> Métrica de precisão que pode ser aplicada para avaliar predições.\n",
    "\n",
    "- **GridSearchCV:**\n",
    "> Uma API Python que executa uma pesquisa exaustiva por valores de parâmetros especificados para um estimador."
   ]
  },
  {
   "cell_type": "code",
   "execution_count": 129,
   "metadata": {
    "collapsed": true
   },
   "outputs": [],
   "source": [
    "c_values = [0.001, 0.005, 0.01, 0.05, 0.1, 1, 2, 3, 4, 5, 6, 7, 8, 9, 10]"
   ]
  },
  {
   "cell_type": "markdown",
   "metadata": {},
   "source": [
    "### 4.1.1 Log Loss com Validação Cruzada"
   ]
  },
  {
   "cell_type": "code",
   "execution_count": 130,
   "metadata": {
    "collapsed": true
   },
   "outputs": [],
   "source": [
    "def scoring_loss_cv(model):\n",
    "    scores_loss= -cross_val_score(model, X_TRAIN, Y_TRAIN, scoring=\"neg_log_loss\", cv = 10)\n",
    "    return(scores_loss)"
   ]
  },
  {
   "cell_type": "code",
   "execution_count": 131,
   "metadata": {
    "collapsed": true
   },
   "outputs": [],
   "source": [
    "cv_logistic_loss = [scoring_loss_cv(LogisticRegression(C = c)).mean() \n",
    "            for c in c_values]"
   ]
  },
  {
   "cell_type": "code",
   "execution_count": 132,
   "metadata": {},
   "outputs": [
    {
     "data": {
      "text/plain": [
       "Text(0,0.5,'Log Loss')"
      ]
     },
     "execution_count": 132,
     "metadata": {},
     "output_type": "execute_result"
    },
    {
     "data": {
      "image/png": "[encoded data removed]",
      "text/plain": [
       "<matplotlib.figure.Figure at 0x22e4b3d7128>"
      ]
     },
     "metadata": {
      "image/png": {
       "height": 277,
       "width": 398
      }
     },
     "output_type": "display_data"
    }
   ],
   "source": [
    "cv_logistic_loss = pd.Series(cv_logistic_loss, index = c_values)\n",
    "cv_logistic_loss.plot(title = \"Cross validation - Log Loss\")\n",
    "plt.xlabel(\"C\")\n",
    "plt.ylabel(\"Log Loss\")"
   ]
  },
  {
   "cell_type": "code",
   "execution_count": 133,
   "metadata": {},
   "outputs": [
    {
     "data": {
      "text/plain": [
       "0.001     0.508404\n",
       "0.005     0.431297\n",
       "0.010     0.407411\n",
       "0.050     0.381828\n",
       "0.100     0.376041\n",
       "1.000     0.368194\n",
       "2.000     0.368141\n",
       "3.000     0.368177\n",
       "4.000     0.368228\n",
       "5.000     0.368248\n",
       "6.000     0.368258\n",
       "7.000     0.368276\n",
       "8.000     0.368296\n",
       "9.000     0.368307\n",
       "10.000    0.368311\n",
       "dtype: float64"
      ]
     },
     "execution_count": 133,
     "metadata": {},
     "output_type": "execute_result"
    }
   ],
   "source": [
    "cv_logistic_loss"
   ]
  },
  {
   "cell_type": "code",
   "execution_count": 134,
   "metadata": {},
   "outputs": [
    {
     "data": {
      "text/plain": [
       "0.36814119035709708"
      ]
     },
     "execution_count": 134,
     "metadata": {},
     "output_type": "execute_result"
    }
   ],
   "source": [
    "cv_logistic_loss.min()"
   ]
  },
  {
   "cell_type": "markdown",
   "metadata": {},
   "source": [
    "> _Melhor parâmetro C encontrado:_ **2**"
   ]
  },
  {
   "cell_type": "code",
   "execution_count": 135,
   "metadata": {},
   "outputs": [
    {
     "data": {
      "text/plain": [
       "LogisticRegression(C=2, class_weight=None, dual=False, fit_intercept=True,\n",
       "          intercept_scaling=1, max_iter=100, multi_class='ovr', n_jobs=1,\n",
       "          penalty='l2', random_state=None, solver='liblinear', tol=0.0001,\n",
       "          verbose=0, warm_start=False)"
      ]
     },
     "execution_count": 135,
     "metadata": {},
     "output_type": "execute_result"
    }
   ],
   "source": [
    "logreg_loss = LogisticRegression(C=2)\n",
    "model_loss = logreg_loss.fit(X_TRAIN, Y_TRAIN)\n",
    "model_loss"
   ]
  },
  {
   "cell_type": "markdown",
   "metadata": {},
   "source": [
    "### 4.1.2 Accuracy com Validação Cruzada"
   ]
  },
  {
   "cell_type": "code",
   "execution_count": 136,
   "metadata": {
    "collapsed": true
   },
   "outputs": [],
   "source": [
    "def scoring_accuracy_cv(model):\n",
    "    scores_accuracy= cross_val_score(model, X_TRAIN, Y_TRAIN, scoring=\"accuracy\", cv = 10)\n",
    "    return(scores_accuracy)"
   ]
  },
  {
   "cell_type": "code",
   "execution_count": 137,
   "metadata": {
    "collapsed": true
   },
   "outputs": [],
   "source": [
    "cv_logistic_accuracy = [scoring_accuracy_cv(LogisticRegression(C = c)).mean() \n",
    "            for c in c_values]"
   ]
  },
  {
   "cell_type": "code",
   "execution_count": 138,
   "metadata": {},
   "outputs": [
    {
     "data": {
      "text/plain": [
       "Text(0,0.5,'Accuracy')"
      ]
     },
     "execution_count": 138,
     "metadata": {},
     "output_type": "execute_result"
    },
    {
     "data": {
      "image/png": "[encoded data removed]",
      "text/plain": [
       "<matplotlib.figure.Figure at 0x22e4b429c18>"
      ]
     },
     "metadata": {
      "image/png": {
       "height": 277,
       "width": 398
      }
     },
     "output_type": "display_data"
    }
   ],
   "source": [
    "cv_logistic_accuracy = pd.Series(cv_logistic_accuracy, index = c_values)\n",
    "cv_logistic_accuracy.plot(title = \"Cross validation - Accuracy\")\n",
    "plt.xlabel(\"C\")\n",
    "plt.ylabel(\"Accuracy\")"
   ]
  },
  {
   "cell_type": "code",
   "execution_count": 139,
   "metadata": {},
   "outputs": [
    {
     "data": {
      "text/plain": [
       "0.001     0.804456\n",
       "0.005     0.817154\n",
       "0.010     0.839117\n",
       "0.050     0.843355\n",
       "0.100     0.849237\n",
       "1.000     0.853503\n",
       "2.000     0.856046\n",
       "3.000     0.857726\n",
       "4.000     0.860262\n",
       "5.000     0.860262\n",
       "6.000     0.860262\n",
       "7.000     0.859407\n",
       "8.000     0.859407\n",
       "9.000     0.859407\n",
       "10.000    0.859407\n",
       "dtype: float64"
      ]
     },
     "execution_count": 139,
     "metadata": {},
     "output_type": "execute_result"
    }
   ],
   "source": [
    "cv_logistic_accuracy"
   ]
  },
  {
   "cell_type": "code",
   "execution_count": 140,
   "metadata": {},
   "outputs": [
    {
     "data": {
      "text/plain": [
       "0.86026176659277365"
      ]
     },
     "execution_count": 140,
     "metadata": {},
     "output_type": "execute_result"
    }
   ],
   "source": [
    "cv_logistic_accuracy.max()"
   ]
  },
  {
   "cell_type": "markdown",
   "metadata": {},
   "source": [
    "> _Melhor parâmetro C encontrado:_ **4**"
   ]
  },
  {
   "cell_type": "code",
   "execution_count": 141,
   "metadata": {},
   "outputs": [
    {
     "data": {
      "text/plain": [
       "LogisticRegression(C=4, class_weight=None, dual=False, fit_intercept=True,\n",
       "          intercept_scaling=1, max_iter=100, multi_class='ovr', n_jobs=1,\n",
       "          penalty='l2', random_state=None, solver='liblinear', tol=0.0001,\n",
       "          verbose=0, warm_start=False)"
      ]
     },
     "execution_count": 141,
     "metadata": {},
     "output_type": "execute_result"
    }
   ],
   "source": [
    "logreg_accuracy = LogisticRegression(C=4)\n",
    "model_accuracy = logreg_accuracy.fit(X_TRAIN, Y_TRAIN)\n",
    "model_accuracy"
   ]
  },
  {
   "cell_type": "markdown",
   "metadata": {},
   "source": [
    "### 4.1.3 GridSearchCV"
   ]
  },
  {
   "cell_type": "code",
   "execution_count": 142,
   "metadata": {},
   "outputs": [
    {
     "data": {
      "text/plain": [
       "LogisticRegression(C=4, class_weight=None, dual=False, fit_intercept=True,\n",
       "          intercept_scaling=1, max_iter=100, multi_class='ovr', n_jobs=1,\n",
       "          penalty='l2', random_state=None, solver='liblinear', tol=0.0001,\n",
       "          verbose=0, warm_start=False)"
      ]
     },
     "execution_count": 142,
     "metadata": {},
     "output_type": "execute_result"
    }
   ],
   "source": [
    "tuned_parameters = {'C': c_values }\n",
    "model_grid_search = GridSearchCV(LogisticRegression(), tuned_parameters, cv=10)\n",
    "model_grid_search.fit(X_TRAIN, Y_TRAIN)\n",
    "\n",
    "model_grid_search.best_estimator_"
   ]
  },
  {
   "cell_type": "markdown",
   "metadata": {},
   "source": [
    "> _Melhor parâmetro C encontrado:_ **4**"
   ]
  },
  {
   "cell_type": "markdown",
   "metadata": {},
   "source": [
    "## 4.2 Modelo Sem Regularização"
   ]
  },
  {
   "cell_type": "code",
   "execution_count": 143,
   "metadata": {},
   "outputs": [
    {
     "data": {
      "text/plain": [
       "LogisticRegression(C=1.0, class_weight=None, dual=False, fit_intercept=True,\n",
       "          intercept_scaling=1, max_iter=100, multi_class='ovr', n_jobs=1,\n",
       "          penalty='l2', random_state=None, solver='liblinear', tol=0.0001,\n",
       "          verbose=0, warm_start=False)"
      ]
     },
     "execution_count": 143,
     "metadata": {},
     "output_type": "execute_result"
    }
   ],
   "source": [
    "model_no_regularization = LogisticRegression()\n",
    "model_no_regularization.fit(X_TRAIN, Y_TRAIN)\n",
    "model_no_regularization"
   ]
  },
  {
   "cell_type": "markdown",
   "metadata": {},
   "source": [
    "# 5. Resultado"
   ]
  },
  {
   "cell_type": "markdown",
   "metadata": {},
   "source": [
    "## 5.1 Intercept e Coeficientes"
   ]
  },
  {
   "cell_type": "code",
   "execution_count": 144,
   "metadata": {},
   "outputs": [
    {
     "name": "stdout",
     "output_type": "stream",
     "text": [
      "Intercept: [ 0.74523416]\n",
      "\n",
      "Coeficientes: \n",
      "[[ 0.99782313 -0.85016783  1.12692385  1.38053344  0.52823797  0.540377\n",
      "   1.12486977  1.35588431  0.         -0.15693881 -0.36634927  0.65536803]]\n"
     ]
    }
   ],
   "source": [
    "# Modelo por Log Loss\n",
    "print(\"Intercept: {0}\\n\".format(model_loss.intercept_))\n",
    "print(\"Coeficientes: \\n{0}\".format(model_loss.coef_))"
   ]
  },
  {
   "cell_type": "code",
   "execution_count": 145,
   "metadata": {},
   "outputs": [
    {
     "name": "stdout",
     "output_type": "stream",
     "text": [
      "Intercept: [ 0.74434166]\n",
      "\n",
      "Coeficientes: \n",
      "[[ 1.0179025  -0.8199441   1.20596236  1.4553132   0.58673681  0.59482041\n",
      "   1.14365921  1.3872164   0.         -0.15518749 -0.39733135  0.76869554]]\n"
     ]
    }
   ],
   "source": [
    "# Modelo por Acurácia\n",
    "print(\"Intercept: {0}\\n\".format(model_accuracy.intercept_))\n",
    "print(\"Coeficientes: \\n{0}\".format(model_accuracy.coef_))"
   ]
  },
  {
   "cell_type": "code",
   "execution_count": 146,
   "metadata": {},
   "outputs": [
    {
     "name": "stdout",
     "output_type": "stream",
     "text": [
      "Intercept: [ 0.74434166]\n",
      "\n",
      "Coeficientes: \n",
      "[[ 1.0179025  -0.8199441   1.20596236  1.4553132   0.58673681  0.59482041\n",
      "   1.14365921  1.3872164   0.         -0.15518749 -0.39733135  0.76869554]]\n"
     ]
    }
   ],
   "source": [
    "# Modelo com GridSearchCV\n",
    "print(\"Intercept: {0}\\n\".format(model_grid_search.best_estimator_.intercept_))\n",
    "print(\"Coeficientes: \\n{0}\".format(model_grid_search.best_estimator_.coef_))"
   ]
  },
  {
   "cell_type": "code",
   "execution_count": 147,
   "metadata": {},
   "outputs": [
    {
     "name": "stdout",
     "output_type": "stream",
     "text": [
      "Intercept: [ 0.73419238]\n",
      "\n",
      "Coeficientes: \n",
      "[[ 0.95738049 -0.89754419  1.00860464  1.26874429  0.44250942  0.45725194\n",
      "   1.09230871  1.30386662  0.         -0.16117991 -0.31937244  0.49500743]]\n"
     ]
    }
   ],
   "source": [
    "# Modelo Sem Regularização\n",
    "print(\"Intercept: {0}\\n\".format(model_no_regularization.intercept_))\n",
    "print(\"Coeficientes: \\n{0}\".format(model_no_regularization.coef_))"
   ]
  },
  {
   "cell_type": "markdown",
   "metadata": {},
   "source": [
    "## 5.2 Dados de Treino"
   ]
  },
  {
   "cell_type": "code",
   "execution_count": 148,
   "metadata": {},
   "outputs": [
    {
     "name": "stdout",
     "output_type": "stream",
     "text": [
      "             precision    recall  f1-score   support\n",
      "\n",
      "          0       0.83      0.75      0.79       407\n",
      "          1       0.88      0.92      0.90       775\n",
      "\n",
      "avg / total       0.86      0.86      0.86      1182\n",
      "\n"
     ]
    }
   ],
   "source": [
    "# Modelo por Log Loss\n",
    "predicted_loss = model_loss.predict(X_TRAIN)\n",
    "print(metrics.classification_report(Y_TRAIN, predicted_loss))"
   ]
  },
  {
   "cell_type": "code",
   "execution_count": 149,
   "metadata": {},
   "outputs": [
    {
     "name": "stdout",
     "output_type": "stream",
     "text": [
      "             precision    recall  f1-score   support\n",
      "\n",
      "          0       0.84      0.76      0.80       407\n",
      "          1       0.88      0.92      0.90       775\n",
      "\n",
      "avg / total       0.86      0.87      0.86      1182\n",
      "\n"
     ]
    }
   ],
   "source": [
    "# Modelo por Acurácia\n",
    "predicted_accuracy = model_accuracy.predict(X_TRAIN)\n",
    "print(metrics.classification_report(Y_TRAIN, predicted_accuracy))"
   ]
  },
  {
   "cell_type": "code",
   "execution_count": 150,
   "metadata": {},
   "outputs": [
    {
     "name": "stdout",
     "output_type": "stream",
     "text": [
      "             precision    recall  f1-score   support\n",
      "\n",
      "          0       0.84      0.76      0.80       407\n",
      "          1       0.88      0.92      0.90       775\n",
      "\n",
      "avg / total       0.86      0.87      0.86      1182\n",
      "\n"
     ]
    }
   ],
   "source": [
    "# Modelo com GridSearchCV\n",
    "predicted_grid_search = model_grid_search.predict(X_TRAIN)\n",
    "print(metrics.classification_report(Y_TRAIN, predicted_grid_search))"
   ]
  },
  {
   "cell_type": "code",
   "execution_count": 151,
   "metadata": {},
   "outputs": [
    {
     "name": "stdout",
     "output_type": "stream",
     "text": [
      "             precision    recall  f1-score   support\n",
      "\n",
      "          0       0.83      0.75      0.79       407\n",
      "          1       0.88      0.92      0.90       775\n",
      "\n",
      "avg / total       0.86      0.86      0.86      1182\n",
      "\n"
     ]
    }
   ],
   "source": [
    "# Modelo Sem Regularização\n",
    "predicted_no_regularization = model_no_regularization.predict(X_TRAIN)\n",
    "print(metrics.classification_report(Y_TRAIN, predicted_no_regularization))"
   ]
  },
  {
   "cell_type": "markdown",
   "metadata": {},
   "source": [
    "## 5.3 Dados de Teste"
   ]
  },
  {
   "cell_type": "code",
   "execution_count": 152,
   "metadata": {},
   "outputs": [
    {
     "name": "stdout",
     "output_type": "stream",
     "text": [
      "             precision    recall  f1-score   support\n",
      "\n",
      "          0       0.86      0.78      0.82        40\n",
      "          1       0.91      0.95      0.93        92\n",
      "\n",
      "avg / total       0.89      0.89      0.89       132\n",
      "\n"
     ]
    }
   ],
   "source": [
    "# Modelo por Log Loss\n",
    "predicted_loss = model_loss.predict(X_TEST)\n",
    "print(metrics.classification_report(Y_TEST, predicted_loss))"
   ]
  },
  {
   "cell_type": "code",
   "execution_count": 153,
   "metadata": {},
   "outputs": [
    {
     "name": "stdout",
     "output_type": "stream",
     "text": [
      "             precision    recall  f1-score   support\n",
      "\n",
      "          0       0.86      0.78      0.82        40\n",
      "          1       0.91      0.95      0.93        92\n",
      "\n",
      "avg / total       0.89      0.89      0.89       132\n",
      "\n"
     ]
    }
   ],
   "source": [
    "# Modelo por Acurácia\n",
    "predicted_accuracy = model_accuracy.predict(X_TEST)\n",
    "print(metrics.classification_report(Y_TEST, predicted_accuracy))"
   ]
  },
  {
   "cell_type": "code",
   "execution_count": 154,
   "metadata": {},
   "outputs": [
    {
     "name": "stdout",
     "output_type": "stream",
     "text": [
      "             precision    recall  f1-score   support\n",
      "\n",
      "          0       0.86      0.78      0.82        40\n",
      "          1       0.91      0.95      0.93        92\n",
      "\n",
      "avg / total       0.89      0.89      0.89       132\n",
      "\n"
     ]
    }
   ],
   "source": [
    "# Modelo com GridSearchCV\n",
    "predicted_grid_search = model_grid_search.predict(X_TEST)\n",
    "print(metrics.classification_report(Y_TEST, predicted_grid_search))"
   ]
  },
  {
   "cell_type": "code",
   "execution_count": 155,
   "metadata": {},
   "outputs": [
    {
     "name": "stdout",
     "output_type": "stream",
     "text": [
      "             precision    recall  f1-score   support\n",
      "\n",
      "          0       0.86      0.78      0.82        40\n",
      "          1       0.91      0.95      0.93        92\n",
      "\n",
      "avg / total       0.89      0.89      0.89       132\n",
      "\n"
     ]
    }
   ],
   "source": [
    "# Modelo Sem Regularização\n",
    "predicted_no_regularization = model_no_regularization.predict(X_TEST)\n",
    "print(metrics.classification_report(Y_TEST, predicted_no_regularization))"
   ]
  },
  {
   "cell_type": "markdown",
   "metadata": {},
   "source": [
    "# 6. Conclusões"
   ]
  },
  {
   "cell_type": "markdown",
   "metadata": {},
   "source": [
    "Embora os modelos tenham recebidos parâmetros de regularização diferentes, as métricas de precision, recall e f1-score de cada modelo foram muito próximas ou iguais. \n",
    "\n",
    "- Dados de Treino: Todos os modelos obtiveram precision, recall e f1-score em torno de 86%.\n",
    "\n",
    "- Dados de Teste: Todos os modelos obtiveram precision, recall e f1-score em torno de 89%.\n",
    "\n",
    "Portanto, qualquer modelo encontrado neste trabalho pode ser utilizado para classificação de transformações sintáticas no contexto de técnicas de síntese de programas."
   ]
  }
 ],
 "metadata": {
  "kernelspec": {
   "display_name": "Python 3",
   "language": "python",
   "name": "python3"
  },
  "language_info": {
   "codemirror_mode": {
    "name": "ipython",
    "version": 3
   },
   "file_extension": ".py",
   "mimetype": "text/x-python",
   "name": "python",
   "nbconvert_exporter": "python",
   "pygments_lexer": "ipython3",
   "version": "3.6.3"
  }
 },
 "nbformat": 4,
 "nbformat_minor": 2
}
