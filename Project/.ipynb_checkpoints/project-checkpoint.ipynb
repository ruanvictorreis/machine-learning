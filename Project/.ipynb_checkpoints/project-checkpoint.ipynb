{
 "cells": [
  {
   "cell_type": "markdown",
   "metadata": {},
   "source": [
    "**Universidade Federal de Campina Grande**\n",
    "<br/>\n",
    "**Programa de Pós-Graduação em Ciência da Computação**\n",
    "<br/>\n",
    "**Disciplina:** _Aprendizagem de Máquina_\n",
    "<br/>\n",
    "**Estudante:** _Ruan Victor Bertoldo Reis de Amorim_"
   ]
  },
  {
   "cell_type": "markdown",
   "metadata": {},
   "source": [
    "## <center>Classificação de Transformações Sintáticas em Técnicas de Síntese de Programas</center>"
   ]
  },
  {
   "cell_type": "markdown",
   "metadata": {},
   "source": [
    "# 1. Introdução"
   ]
  },
  {
   "cell_type": "markdown",
   "metadata": {},
   "source": [
    "<div style=\\\"text-align: justify\\\">\n",
    "Em minha pesquisa de mestrado, eu estou desenvolvendo uma ferramenta interativa que fornece feedback de alto nível para alunos de introdução a programação. O objetivo da ferramenta, chamada de `TraceDiff`, é possibilitar que os estudantes entendam os comportamentos inesperados dos seus códigos comparando-os com versões corrigidas dos mesmos. Dentre as principais funcionalidades do `TraceDiff`, podemos destacar a capacidade de corrigir códigos Python em tempo real e de forma automatizada. Para esta tarefa, o `TraceDiff` utiliza uma técnica de síntese de programas chamada de `Refazer` que é capaz de aprender e aplicar transformações síntáticas de código.\n",
    "<br/><br/>\n",
    "Inicialmente, é necessário fornecer para o `Refazer` uma base de dados composta por conjuntos de códigos incorretos e suas respectivas correções. No seguinte exemplo, podemos observar uma possível entrada para nossa técnica de síntese de programas. O primeiro quadro representa um código incorreto, a linha em vermelho indica a localização do erro cometido na implementação. Em seguida, no segundo quadro, podemos observar uma versão corrigida, a linha em azul representa a edição que foi necessário para corrigir o referido código. Uma tupla contento estes dois códigos é dado como entrada para o `Refazer` para que ele aprenda transformações sintáticas que representem tal correção. Dessa forma, o `TraceDiff` pode aplicar essas tranformações sintáticas em submissões futuras de outros alunos.\n",
    "![title](img/exemplo2.png) ![title](img/exemplo1.png)\n",
    "<br/><br/>\n",
    "Para uma única entrada ou exemplo, o `Refazer` pode aprender **centenas de transformações sintáticas** além da que é considerada correta. Isso acontece porque a técnica tenta explorar o maior espaço possível de variações para ambos os códigos. No entanto, algumas das transformações aprendidas estão muito distantes da transformação ideal, portanto, não é interessante mantê-las e nem aplicá-las. Neste trabalho de _Apredizagem de Máquina_, queremos implementar um classificador baseado em **regressão logística** que seja capaz de identificar transformações sintáticas indesejadas. Dessa forma, poderemos utilizar o classificador para eleminar as transformações de efeito negativo, assim, economizando os rescursos computacionais que atualmente são desperdiçados com essas operações.\n",
    "\n",
    "</div>"
   ]
  },
  {
   "cell_type": "markdown",
   "metadata": {},
   "source": [
    "# 2. Descrição dos Dados"
   ]
  },
  {
   "cell_type": "markdown",
   "metadata": {},
   "source": [
    "<div style=\\\"text-align: justify\\\">\n",
    "Os dados são compostos por 1314 transformações sintáticas geradas pelo `Refazer` a partir de edições executadas em três grandes projetos do Github (Roslyn, Entity Framework e NuGet). Dado o nosso conjunto de transformações, nós extraímos 12 features para conduzir este trabalho. Em seguida, a descrição de cada feature.\n",
    "</div>\n",
    "- **ConstNode:** _número de constantes no programa._\n",
    "- **Reference:** _número de referências no programa._\n",
    "- **_ConcretePattern:_**\n",
    "- **_AbstractPattern:_**\n",
    "- **Node:** _número de nós no programa._\n",
    "- **Pattern:** _número de padrões no programa._\n",
    "- **ParentOne:** _número de nós com apenas um pai._\n",
    "- **ParentTwo:** _número de nós com dois pais._\n",
    "- **ParentThree:** _número de nós com três pais._\n",
    "- **NodeItself:** _número de nós sem pais._\n",
    "- **SizeProg:** _número de linhas do programa._ \n",
    "- **NumberOp:** _número de operações utilizadas para gerar um programa._\n",
    "- **Label:** _representa se uma transformação obteve efeito desejável(1) ou indesejável(0)._"
   ]
  },
  {
   "cell_type": "markdown",
   "metadata": {},
   "source": [
    "# 3. Tratamento dos Dados"
   ]
  },
  {
   "cell_type": "markdown",
   "metadata": {},
   "source": [
    "<div style=\\\"text-align: justify\\\">\n",
    "Dado a descrição dos dados considerados neste estudo, foi necessário separar as features (X) e os labels (Y) do nosso dataset. Em seguida, dividimos os dados em 90% para treino e 10% para teste utilizando a função `train_test_split` que é fornecida pelo `scikit-learn`. O código Python a seguir realiza as operações descritas.\n",
    "</div>"
   ]
  },
  {
   "cell_type": "code",
   "execution_count": 2,
   "metadata": {},
   "outputs": [],
   "source": [
    "from sklearn.cross_validation import train_test_split\n",
    "from sklearn.cross_validation import cross_val_score\n",
    "from sklearn.linear_model import LogisticRegression\n",
    "from sklearn.model_selection import GridSearchCV\n",
    "\n",
    "import pandas as pd\n",
    "import numpy as np\n",
    "import matplotlib.pyplot as plt\n",
    "\n",
    "%config InlineBackend.figure_format = 'retina' #set 'png' here when working on notebook\n",
    "%matplotlib inline\n",
    "\n",
    "data = pd.read_csv(\"data/ProgStatus.csv\")\n",
    "\n",
    "X = data[['ConstNode','Reference','ConcretePattern', 'AbstractPattern', 'Node', 'Pattern', 'ParentOne', 'ParentTwo', 'ParentThree', 'NodeItself', 'SizeProg', 'NumberOp']]\n",
    "Y = data[['Label']].values.ravel()\n",
    "\n",
    "X_TRAIN, X_TEST, Y_TRAIN, Y_TEST = train_test_split(X, Y, train_size=0.9)"
   ]
  },
  {
   "cell_type": "markdown",
   "metadata": {},
   "source": [
    "# 4. Modelo de Regressão Logística"
   ]
  },
  {
   "cell_type": "markdown",
   "metadata": {},
   "source": [
    "<div style=\\\"text-align: justify\\\">\n",
    "Nosso objetivo neste trabalho é encontrar um modelo de regressão logística (com regularização) que seja eficaz em classificar transformações sintáticas como positivas (efeito esperado) e negativa (efeito inesperado). Para tal objetivo, nós utilizamos o `scikit-learn` uma biblioteca de aprendizado de máquina de código aberto para a linguagem de programação Python. Ela inclui vários algoritmos de classificação, regressão e agrupamento incluindo máquinas de vetores de suporte, florestas aleatórias, gradient boosting, k-means e DBSCAN, e é projetada para interagir com as bibliotecas Python numéricas e científicas NumPy e SciPy.\n",
    "</div>"
   ]
  },
  {
   "cell_type": "markdown",
   "metadata": {
    "collapsed": true
   },
   "source": [
    "## 4.1 Tunando Hiperparâmetros (Coeficiente de Regularização)"
   ]
  },
  {
   "cell_type": "markdown",
   "metadata": {},
   "source": [
    "Nesta secção, queremos encontrar o melhor modelo de regressão logística e parâmetro de regularização que correspondam as nossas expectativas. Considerando as convenções do `scikit-learn`, o parâmetro **C** controla a quantidade de regularização do modelo de regressão logistíca. Um grande valor para C resulta em menos regularização. \n",
    "\n",
    "Queremos encontrar o melhor C considerando os três aspectos a seguir:\n",
    "- **Log Loss:** \n",
    "> Mede o desempenho de um modelo de classificação onde a entrada de previsão é um valor de probabilidade entre 0 e 1.\n",
    "\n",
    "- **Acurácia:**\n",
    "> Métrica de precisão que pode ser aplicada para avaliar predições.\n",
    "\n",
    "- **GridSearchCV:**\n",
    "> Uma API Python que executa uma pesquisa exaustiva por valores de parâmetros especificados para um estimador."
   ]
  },
  {
   "cell_type": "code",
   "execution_count": 7,
   "metadata": {
    "collapsed": true
   },
   "outputs": [],
   "source": [
    "c_values = [0.001, 0.005, 0.01, 0.05, 0.1, 1, 2, 3, 4, 5, 6, 7, 8, 9, 10]"
   ]
  },
  {
   "cell_type": "markdown",
   "metadata": {},
   "source": [
    "### 4.1.1 Log Loss com Validação Cruzada"
   ]
  },
  {
   "cell_type": "code",
   "execution_count": 8,
   "metadata": {
    "collapsed": true
   },
   "outputs": [],
   "source": [
    "def scoring_loss_cv(model):\n",
    "    scores_loss= -cross_val_score(model, X_TRAIN, Y_TRAIN, scoring=\"neg_log_loss\", cv = 10)\n",
    "    return(scores_loss)"
   ]
  },
  {
   "cell_type": "code",
   "execution_count": 9,
   "metadata": {
    "collapsed": true
   },
   "outputs": [],
   "source": [
    "cv_logistic_loss = [scoring_loss_cv(LogisticRegression(C = c)).mean() \n",
    "            for c in c_values]"
   ]
  },
  {
   "cell_type": "code",
   "execution_count": 10,
   "metadata": {},
   "outputs": [
    {
     "data": {
      "text/plain": [
       "Text(0,0.5,'Log Loss')"
      ]
     },
     "execution_count": 10,
     "metadata": {},
     "output_type": "execute_result"
    },
    {
     "data": {
      "image/png": "[encoded data removed]",
      "text/plain": [
       "<matplotlib.figure.Figure at 0x22e45efe278>"
      ]
     },
     "metadata": {
      "image/png": {
       "height": 277,
       "width": 398
      }
     },
     "output_type": "display_data"
    }
   ],
   "source": [
    "cv_logistic_loss = pd.Series(cv_logistic_loss, index = c_values)\n",
    "cv_logistic_loss.plot(title = \"Cross validation - Log Loss\")\n",
    "plt.xlabel(\"C\")\n",
    "plt.ylabel(\"Log Loss\")"
   ]
  },
  {
   "cell_type": "code",
   "execution_count": 11,
   "metadata": {},
   "outputs": [
    {
     "data": {
      "text/plain": [
       "0.001     0.500104\n",
       "0.005     0.423834\n",
       "0.010     0.400405\n",
       "0.050     0.374853\n",
       "0.100     0.368705\n",
       "1.000     0.359717\n",
       "2.000     0.359466\n",
       "3.000     0.359436\n",
       "4.000     0.359439\n",
       "5.000     0.359441\n",
       "6.000     0.359450\n",
       "7.000     0.359465\n",
       "8.000     0.359478\n",
       "9.000     0.359483\n",
       "10.000    0.359481\n",
       "dtype: float64"
      ]
     },
     "execution_count": 11,
     "metadata": {},
     "output_type": "execute_result"
    }
   ],
   "source": [
    "cv_logistic_loss"
   ]
  },
  {
   "cell_type": "code",
   "execution_count": 12,
   "metadata": {},
   "outputs": [
    {
     "data": {
      "text/plain": [
       "0.35943602861868607"
      ]
     },
     "execution_count": 12,
     "metadata": {},
     "output_type": "execute_result"
    }
   ],
   "source": [
    "cv_logistic_loss.min()"
   ]
  },
  {
   "cell_type": "markdown",
   "metadata": {},
   "source": [
    "> _Melhor parâmetro C encontrado:_ **3**"
   ]
  },
  {
   "cell_type": "code",
   "execution_count": 38,
   "metadata": {},
   "outputs": [
    {
     "data": {
      "text/plain": [
       "LogisticRegression(C=1, class_weight=None, dual=False, fit_intercept=True,\n",
       "          intercept_scaling=1, max_iter=100, multi_class='ovr', n_jobs=1,\n",
       "          penalty='l2', random_state=None, solver='liblinear', tol=0.0001,\n",
       "          verbose=0, warm_start=False)"
      ]
     },
     "execution_count": 38,
     "metadata": {},
     "output_type": "execute_result"
    }
   ],
   "source": [
    "logreg_loss = LogisticRegression(C=1)\n",
    "model_loss = logreg_loss.fit(X_TRAIN, Y_TRAIN)\n",
    "model_loss"
   ]
  },
  {
   "cell_type": "markdown",
   "metadata": {},
   "source": [
    "### 4.1.2 Accuracy com Validação Cruzada"
   ]
  },
  {
   "cell_type": "code",
   "execution_count": 13,
   "metadata": {
    "collapsed": true
   },
   "outputs": [],
   "source": [
    "def scoring_accuracy_cv(model):\n",
    "    scores_accuracy= cross_val_score(model, X_TRAIN, Y_TRAIN, scoring=\"accuracy\", cv = 10)\n",
    "    return(scores_accuracy)"
   ]
  },
  {
   "cell_type": "code",
   "execution_count": 14,
   "metadata": {
    "collapsed": true
   },
   "outputs": [],
   "source": [
    "cv_logistic_accuracy = [scoring_accuracy_cv(LogisticRegression(C = c)).mean() \n",
    "            for c in c_values]"
   ]
  },
  {
   "cell_type": "code",
   "execution_count": 15,
   "metadata": {},
   "outputs": [
    {
     "data": {
      "text/plain": [
       "Text(0,0.5,'Accuracy')"
      ]
     },
     "execution_count": 15,
     "metadata": {},
     "output_type": "execute_result"
    },
    {
     "data": {
      "image/png": "[encoded data removed]",
      "text/plain": [
       "<matplotlib.figure.Figure at 0x22e4ad26668>"
      ]
     },
     "metadata": {
      "image/png": {
       "height": 277,
       "width": 398
      }
     },
     "output_type": "display_data"
    }
   ],
   "source": [
    "cv_logistic_accuracy = pd.Series(cv_logistic_accuracy, index = c_values)\n",
    "cv_logistic_accuracy.plot(title = \"Cross validation - Accuracy\")\n",
    "plt.xlabel(\"C\")\n",
    "plt.ylabel(\"Accuracy\")"
   ]
  },
  {
   "cell_type": "code",
   "execution_count": 16,
   "metadata": {},
   "outputs": [
    {
     "data": {
      "text/plain": [
       "0.001     0.792698\n",
       "0.005     0.815487\n",
       "0.010     0.834923\n",
       "0.050     0.844224\n",
       "0.100     0.848447\n",
       "1.000     0.859422\n",
       "2.000     0.861957\n",
       "3.000     0.861103\n",
       "4.000     0.861103\n",
       "5.000     0.861943\n",
       "6.000     0.861943\n",
       "7.000     0.861943\n",
       "8.000     0.861943\n",
       "9.000     0.861943\n",
       "10.000    0.861943\n",
       "dtype: float64"
      ]
     },
     "execution_count": 16,
     "metadata": {},
     "output_type": "execute_result"
    }
   ],
   "source": [
    "cv_logistic_accuracy"
   ]
  },
  {
   "cell_type": "code",
   "execution_count": 17,
   "metadata": {},
   "outputs": [
    {
     "data": {
      "text/plain": [
       "0.86195729052159764"
      ]
     },
     "execution_count": 17,
     "metadata": {},
     "output_type": "execute_result"
    }
   ],
   "source": [
    "cv_logistic_accuracy.max()"
   ]
  },
  {
   "cell_type": "markdown",
   "metadata": {},
   "source": [
    "> _Melhor parâmetro C encontrado:_ **2**"
   ]
  },
  {
   "cell_type": "code",
   "execution_count": 37,
   "metadata": {},
   "outputs": [
    {
     "data": {
      "text/plain": [
       "LogisticRegression(C=10, class_weight=None, dual=False, fit_intercept=True,\n",
       "          intercept_scaling=1, max_iter=100, multi_class='ovr', n_jobs=1,\n",
       "          penalty='l2', random_state=None, solver='liblinear', tol=0.0001,\n",
       "          verbose=0, warm_start=False)"
      ]
     },
     "execution_count": 37,
     "metadata": {},
     "output_type": "execute_result"
    }
   ],
   "source": [
    "logreg_accuracy = LogisticRegression(C=10)\n",
    "model_accuracy = logreg_accuracy.fit(X_TRAIN, Y_TRAIN)\n",
    "model_accuracy"
   ]
  },
  {
   "cell_type": "markdown",
   "metadata": {},
   "source": [
    "### 4.1.3 GridSearchCV"
   ]
  },
  {
   "cell_type": "code",
   "execution_count": 28,
   "metadata": {},
   "outputs": [
    {
     "data": {
      "text/plain": [
       "LogisticRegression(C=2, class_weight=None, dual=False, fit_intercept=True,\n",
       "          intercept_scaling=1, max_iter=100, multi_class='ovr', n_jobs=1,\n",
       "          penalty='l2', random_state=None, solver='liblinear', tol=0.0001,\n",
       "          verbose=0, warm_start=False)"
      ]
     },
     "execution_count": 28,
     "metadata": {},
     "output_type": "execute_result"
    }
   ],
   "source": [
    "tuned_parameters = {'C': c_values }\n",
    "model_grid_search = GridSearchCV(LogisticRegression(), tuned_parameters, cv=10)\n",
    "model_grid_search.fit(X_TRAIN, Y_TRAIN)\n",
    "\n",
    "model_grid_search.best_estimator_"
   ]
  },
  {
   "cell_type": "markdown",
   "metadata": {},
   "source": [
    "> _Melhor parâmetro C encontrado:_ **2**"
   ]
  },
  {
   "cell_type": "markdown",
   "metadata": {},
   "source": [
    "# 5. Resultado"
   ]
  },
  {
   "cell_type": "markdown",
   "metadata": {},
   "source": [
    "## 5.1 Intercept e Coeficientes"
   ]
  },
  {
   "cell_type": "code",
   "execution_count": 44,
   "metadata": {},
   "outputs": [
    {
     "name": "stdout",
     "output_type": "stream",
     "text": [
      "Intercept: [ 0.83733613]\n",
      "\n",
      "Coeficientes: [[ 0.87635087 -0.85142788  1.05519143  1.31398911  0.50668782  0.49114957\n",
      "   0.97859044  1.29002572  0.         -0.17249306 -0.33935811  0.60567011]]\n"
     ]
    }
   ],
   "source": [
    "# Modelo por Log Loss\n",
    "print(\"Intercept: {0}\\n\".format(model_loss.intercept_))\n",
    "print(\"Coeficientes: \\n{0}\".format(model_loss.coef_))"
   ]
  },
  {
   "cell_type": "markdown",
   "metadata": {},
   "source": [
    "## 5.2 Dados de Treino"
   ]
  },
  {
   "cell_type": "code",
   "execution_count": 31,
   "metadata": {},
   "outputs": [
    {
     "data": {
      "text/plain": [
       "0.86379018612521152"
      ]
     },
     "execution_count": 31,
     "metadata": {},
     "output_type": "execute_result"
    }
   ],
   "source": [
    "# Modelo por Log Loss\n",
    "model_loss.score(X_TRAIN, Y_TRAIN)"
   ]
  },
  {
   "cell_type": "code",
   "execution_count": 32,
   "metadata": {},
   "outputs": [
    {
     "data": {
      "text/plain": [
       "0.8697123519458545"
      ]
     },
     "execution_count": 32,
     "metadata": {},
     "output_type": "execute_result"
    }
   ],
   "source": [
    "# Modelo por Acurácia\n",
    "model_accuracy.score(X_TRAIN, Y_TRAIN)"
   ]
  },
  {
   "cell_type": "code",
   "execution_count": 33,
   "metadata": {},
   "outputs": [
    {
     "data": {
      "text/plain": [
       "0.86379018612521152"
      ]
     },
     "execution_count": 33,
     "metadata": {},
     "output_type": "execute_result"
    }
   ],
   "source": [
    "# Modelo com GridSearchCV\n",
    "model_grid_search.score(X_TRAIN, Y_TRAIN)"
   ]
  },
  {
   "cell_type": "markdown",
   "metadata": {},
   "source": [
    "## 5.3 Dados de Teste"
   ]
  },
  {
   "cell_type": "code",
   "execution_count": 34,
   "metadata": {},
   "outputs": [
    {
     "data": {
      "text/plain": [
       "0.87121212121212122"
      ]
     },
     "execution_count": 34,
     "metadata": {},
     "output_type": "execute_result"
    }
   ],
   "source": [
    "# Modelo por Log Loss\n",
    "model_loss.score(X_TEST, Y_TEST)"
   ]
  },
  {
   "cell_type": "code",
   "execution_count": 35,
   "metadata": {},
   "outputs": [
    {
     "data": {
      "text/plain": [
       "0.87878787878787878"
      ]
     },
     "execution_count": 35,
     "metadata": {},
     "output_type": "execute_result"
    }
   ],
   "source": [
    "# Modelo por Acurácia\n",
    "model_accuracy.score(X_TEST, Y_TEST)"
   ]
  },
  {
   "cell_type": "code",
   "execution_count": 36,
   "metadata": {},
   "outputs": [
    {
     "data": {
      "text/plain": [
       "0.87121212121212122"
      ]
     },
     "execution_count": 36,
     "metadata": {},
     "output_type": "execute_result"
    }
   ],
   "source": [
    "# Modelo com GridSearchCV\n",
    "model_grid_search.score(X_TEST, Y_TEST)"
   ]
  }
 ],
 "metadata": {
  "kernelspec": {
   "display_name": "Python 3",
   "language": "python",
   "name": "python3"
  },
  "language_info": {
   "codemirror_mode": {
    "name": "ipython",
    "version": 3
   },
   "file_extension": ".py",
   "mimetype": "text/x-python",
   "name": "python",
   "nbconvert_exporter": "python",
   "pygments_lexer": "ipython3",
   "version": "3.6.3"
  }
 },
 "nbformat": 4,
 "nbformat_minor": 2
}
