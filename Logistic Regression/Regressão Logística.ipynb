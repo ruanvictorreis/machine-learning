{
 "cells": [
  {
   "cell_type": "markdown",
   "metadata": {},
   "source": [
    "# Regressão Logística\n",
    "\n",
    "Universidade Federal de Campina Grande<br/>\n",
    "Programa de Pós-Graduação em Ciência da Computação<br/>\n",
    "Disciplina: Aprendizagem de Máquina<br/>\n",
    "Aluno: Ruan Victor Bertoldo Reis de Amorim"
   ]
  },
  {
   "cell_type": "code",
   "execution_count": 1,
   "metadata": {
    "collapsed": true
   },
   "outputs": [],
   "source": [
    "from sklearn import linear_model\n",
    "import numpy as np\n",
    "import time\n",
    "import pandas as pd"
   ]
  },
  {
   "cell_type": "markdown",
   "metadata": {},
   "source": [
    "## Função logística (Sigmóide)"
   ]
  },
  {
   "cell_type": "code",
   "execution_count": 2,
   "metadata": {
    "collapsed": true
   },
   "outputs": [],
   "source": [
    "def logistic(w, X):\n",
    "    return 1 / (1 + np.exp(-np.dot(X, w)))"
   ]
  },
  {
   "cell_type": "markdown",
   "metadata": {},
   "source": [
    "## Gradiente ascendente (Vetorizado)"
   ]
  },
  {
   "cell_type": "code",
   "execution_count": 3,
   "metadata": {
    "collapsed": true
   },
   "outputs": [],
   "source": [
    "def step_gradient_vectorized(w_current, X, Y, learningRate):\n",
    "    gradient = np.zeros((len(w_current), 1))\n",
    "    \n",
    "    for var in range(len(gradient)):\n",
    "        gradient[var] += np.dot(X[:,var], Y - logistic(w_current, X))\n",
    "    \n",
    "    w_current += (gradient * learningRate)\n",
    "    return [w_current, gradient]"
   ]
  },
  {
   "cell_type": "markdown",
   "metadata": {},
   "source": [
    "## Iterações"
   ]
  },
  {
   "cell_type": "code",
   "execution_count": 4,
   "metadata": {
    "collapsed": true
   },
   "outputs": [],
   "source": [
    "def gradient_ascendant_runner_vectorized(starting_w, X, Y, learning_rate, epsilon):\n",
    "    w = starting_w\n",
    "    gradient = np.array([np.inf, np.inf, np.inf, np.inf, np.inf])\n",
    "\n",
    "    while (np.linalg.norm(gradient) >= epsilon):\n",
    "        w, gradient = step_gradient_vectorized(w, X, Y, learning_rate)\n",
    "    return w"
   ]
  },
  {
   "cell_type": "markdown",
   "metadata": {},
   "source": [
    "## Função de predição com limiar de 0.5"
   ]
  },
  {
   "cell_type": "code",
   "execution_count": 5,
   "metadata": {
    "collapsed": true
   },
   "outputs": [],
   "source": [
    "def predict(w, X):\n",
    "    logit = logistic(w, X)\n",
    "    return np.greater_equal(logit, 0.5).astype(int)"
   ]
  },
  {
   "cell_type": "markdown",
   "metadata": {},
   "source": [
    "## Ponto de partida - Leitura dos dados, configurações e resultados"
   ]
  },
  {
   "cell_type": "code",
   "execution_count": 6,
   "metadata": {},
   "outputs": [
    {
     "name": "stdout",
     "output_type": "stream",
     "text": [
      "Iniciando gradiente ascendente com w0 = [ 0.], w1 = [ 0.], w2 = [ 0.], w3 = [ 0.], w4 = [ 0.]\n",
      "Executando...\n",
      "\n",
      "Gradiente ascendente convergiu com w0 = [-0.27069865], w1 = [-0.42693718], w2 = [-1.43042757], w3 = [ 2.25546687], w4 = [ 1.02373226]\n",
      "\n",
      "Tempo de Execução: 5.460176944732666 segundos\n"
     ]
    }
   ],
   "source": [
    "points = pd.read_csv(\"dados/iris.csv\")\n",
    "points['iris'] = np.where(points['iris'] == 'Iris-setosa', 0, 1)\n",
    "\n",
    "X = np.c_[np.ones(len(points)), points[['sepal-length', 'sepal-width', 'petal-length', 'petal-width']]]\n",
    "Y = points[['iris']]\n",
    "\n",
    "init_w = np.zeros((5,1))\n",
    "\n",
    "learning_rate = 0.0001\n",
    "epsilon = 3.0\n",
    "\n",
    "print(\"Iniciando gradiente ascendente com w0 = {0}, w1 = {1}, w2 = {2}, w3 = {3}, w4 = {4}\"\n",
    "      .format(init_w[0], init_w[1], init_w[2], init_w[3], init_w[4]))\n",
    "print(\"Executando...\")\n",
    "\n",
    "tic = time.time()\n",
    "w = gradient_ascendant_runner_vectorized(init_w, X, Y, learning_rate, epsilon)\n",
    "toc = time.time()\n",
    "\n",
    "print(\"\\nGradiente ascendente convergiu com w0 = {0}, w1 = {1}, w2 = {2}, w3 = {3}, w4 = {4}\".\n",
    "      format(w[0], w[1], w[2], w[3], w[4]))\n",
    "print(\"\\nTempo de Execução: \" + str((toc-tic)) + \" segundos\")\n"
   ]
  },
  {
   "cell_type": "markdown",
   "metadata": {},
   "source": [
    "## Predições com os dados de treino"
   ]
  },
  {
   "cell_type": "code",
   "execution_count": 17,
   "metadata": {},
   "outputs": [
    {
     "name": "stdout",
     "output_type": "stream",
     "text": [
      "PREDIÇÕES:\n",
      "[0 0],[0 0],[0 0],[0 0],[0 0],[0 0],[0 0],[0 0],[0 0],[0 0],[0 0],[0 0],[0 0],[0 0],[0 0],[0 0],[0 0],[0 0],[0 0],[0 0],[0 0],[0 0],[0 0],[0 0],[0 0],[0 0],[0 0],[0 0],[0 0],[0 0],[0 0],[0 0],[0 0],[0 0],[0 0],[0 0],[0 0],[0 0],[0 0],[0 0],[0 0],[0 0],[0 0],[0 0],[0 0],[0 0],[0 0],[0 0],[0 0],[0 0],[1 1],[1 1],[1 1],[1 1],[1 1],[1 1],[1 1],[1 1],[1 1],[1 1],[1 1],[1 1],[1 1],[1 1],[1 1],[1 1],[1 1],[1 1],[1 1],[1 1],[1 1],[1 1],[1 1],[1 1],[1 1],[1 1],[1 1],[1 1],[1 1],[1 1],[1 1],[1 1],[1 1],[1 1],[1 1],[1 1],[1 1],[1 1],[1 1],[1 1],[1 1],[1 1],[1 1],[1 1],[1 1],[1 1],[1 1],[1 1],[1 1],[1 1],[1 1],[1 1],[1 1],[1 1],[1 1],[1 1],[1 1],[1 1],[1 1],[1 1],[1 1],[1 1],[1 1],[1 1],[1 1],[1 1],[1 1],[1 1],[1 1],[1 1],[1 1],[1 1],[1 1],[1 1],[1 1],[1 1],[1 1],[1 1],[1 1],[1 1],[1 1],[1 1],[1 1],[1 1],[1 1],[1 1],[1 1],[1 1],[1 1],[1 1],[1 1],[1 1],[1 1],[1 1],[1 1],[1 1],[1 1],[1 1],[1 1],[1 1],\n"
     ]
    }
   ],
   "source": [
    "predictions = np.c_[predict(w, X), Y]\n",
    "result = \"\"\n",
    "\n",
    "for pred in predictions:\n",
    "    result += str(pred) + \",\"\n",
    "    \n",
    "print(\"PREDIÇÕES:\")\n",
    "print(result)"
   ]
  },
  {
   "cell_type": "markdown",
   "metadata": {},
   "source": [
    "## Coeficientes da regressão logística com Scikit Learn"
   ]
  },
  {
   "cell_type": "code",
   "execution_count": 245,
   "metadata": {},
   "outputs": [
    {
     "name": "stdout",
     "output_type": "stream",
     "text": [
      "[[-0.25478973 -0.38180457 -1.43873414  2.26192475  1.02592844]]\n"
     ]
    }
   ],
   "source": [
    "logreg = linear_model.LogisticRegression()\n",
    "model = logreg.fit(X, points.iris)\n",
    "print (model.coef_)"
   ]
  },
  {
   "cell_type": "markdown",
   "metadata": {},
   "source": [
    "### Os coeficientes encontrados pelo nosso algoritmo são próximos aos coeficientes do Scikit Learn:\n",
    "\n",
    "**Scikit Learn**<br/>\n",
    "[-0.25478973, -0.38180457, -1.43873414, 2.26192475, 1.02592844] <br/><br/>\n",
    "**Nosso Algoritmo**<br/>\n",
    "[-0.27069865, -0.42693718, -1.43042757, 2.25546687, 1.02373226]"
   ]
  },
  {
   "cell_type": "code",
   "execution_count": null,
   "metadata": {
    "collapsed": true
   },
   "outputs": [],
   "source": []
  }
 ],
 "metadata": {
  "kernelspec": {
   "display_name": "Python 3",
   "language": "python",
   "name": "python3"
  },
  "language_info": {
   "codemirror_mode": {
    "name": "ipython",
    "version": 3
   },
   "file_extension": ".py",
   "mimetype": "text/x-python",
   "name": "python",
   "nbconvert_exporter": "python",
   "pygments_lexer": "ipython3",
   "version": "3.6.1"
  }
 },
 "nbformat": 4,
 "nbformat_minor": 2
}
